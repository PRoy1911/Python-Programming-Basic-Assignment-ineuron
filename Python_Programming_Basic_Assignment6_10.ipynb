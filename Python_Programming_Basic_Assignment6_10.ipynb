{
  "nbformat": 4,
  "nbformat_minor": 0,
  "metadata": {
    "colab": {
      "name": "Python Programming Basic Assignment6-10.ipynb",
      "provenance": [],
      "collapsed_sections": []
    },
    "kernelspec": {
      "name": "python3",
      "display_name": "Python 3"
    },
    "language_info": {
      "name": "python"
    }
  },
  "cells": [
    {
      "cell_type": "markdown",
      "metadata": {
        "id": "jvXarkgDEGRt"
      },
      "source": [
        "# Assignment 6-10"
      ]
    },
    {
      "cell_type": "markdown",
      "metadata": {
        "id": "7pxIHJtmERly"
      },
      "source": [
        "# Assignment 6"
      ]
    },
    {
      "cell_type": "markdown",
      "metadata": {
        "id": "xo8LhF-MEUMq"
      },
      "source": [
        "# 1."
      ]
    },
    {
      "cell_type": "code",
      "metadata": {
        "id": "F6qWzMbmAhNu"
      },
      "source": [
        "def recur_fibo(n):\n",
        "   if n <= 1:\n",
        "       return n\n",
        "   else:\n",
        "       return(recur_fibo(n-1) + recur_fibo(n-2))\n",
        "\n",
        "nterms =eval(input('Enter the range of fibonacci series you desire to see: '))\n",
        "\n",
        "if nterms <= 0:\n",
        "   print(\"Plese enter a positive integer\")\n",
        "else:\n",
        "   print(\"Fibonacci sequence:\")\n",
        "   for i in range(nterms):\n",
        "       print(recur_fibo(i),end=\" \")"
      ],
      "execution_count": null,
      "outputs": []
    },
    {
      "cell_type": "markdown",
      "metadata": {
        "id": "jbUohn9lEVty"
      },
      "source": [
        "# 2."
      ]
    },
    {
      "cell_type": "code",
      "metadata": {
        "id": "M5TTDjJwApcR"
      },
      "source": [
        "def recur_fact(n):\n",
        "  if n==1:\n",
        "    return 1\n",
        "  else:\n",
        "    return n*fact(n-1)  \n",
        "n =eval(input('Enter the number you desire to see the factorial: '))\n",
        "if n <= 0:\n",
        "   print(\"Plese enter a positive integer\")\n",
        "else:\n",
        "   print(\"Factorial of\",n,\" : \",fact(n))"
      ],
      "execution_count": null,
      "outputs": []
    },
    {
      "cell_type": "markdown",
      "metadata": {
        "id": "-zkr_wzLEZ7x"
      },
      "source": [
        "# 3."
      ]
    },
    {
      "cell_type": "code",
      "metadata": {
        "id": "z1_mxJrxAsRe"
      },
      "source": [
        "def bmi(h,w):\n",
        "  return w/(ft_to_mt(h)*ft_to_mt(h))\n",
        "def ft_to_mt(n):\n",
        "  return 0.0254*((n//1)*12+(n-n//1)*10)"
      ],
      "execution_count": 90,
      "outputs": []
    },
    {
      "cell_type": "code",
      "metadata": {
        "colab": {
          "base_uri": "https://localhost:8080/"
        },
        "id": "95y8VJdMffSq",
        "outputId": "79ff8d3a-e4a6-42d7-dc41-a87a85b038a1"
      },
      "source": [
        "height=eval(input(\"Enter height of the person in foot and inches representation like(5ft 6inches =5.6) : \"))\n",
        "weight=eval(input(\"Enter weight of the person in kg : \"))\n",
        "print(\"BMI of the person is \",bmi(height,weight))"
      ],
      "execution_count": 93,
      "outputs": [
        {
          "output_type": "stream",
          "name": "stdout",
          "text": [
            "Enter height of the person in foot and inches representation like(5ft 6inches =5.6) : 6.7\n",
            "Enter weight of the person in kg : 70\n",
            "BMI of the person is  17.38506921974588\n"
          ]
        }
      ]
    },
    {
      "cell_type": "markdown",
      "metadata": {
        "id": "F0RIqXmyiJGf"
      },
      "source": [
        "# 4."
      ]
    },
    {
      "cell_type": "code",
      "metadata": {
        "colab": {
          "base_uri": "https://localhost:8080/"
        },
        "id": "yDSDgfdUiLX4",
        "outputId": "473e4357-463c-498f-8c72-c304b6e0e654"
      },
      "source": [
        "import math \n",
        "n=eval(input(\"Enter Number \"))\n",
        "print (\"log({0}) : {1}\".format(n, math.log(n)))"
      ],
      "execution_count": 96,
      "outputs": [
        {
          "output_type": "stream",
          "name": "stdout",
          "text": [
            "Enter Number 98.45\n",
            "log(98.45) : 4.589548805085134\n"
          ]
        }
      ]
    },
    {
      "cell_type": "markdown",
      "metadata": {
        "id": "PX5vF69tjQUl"
      },
      "source": [
        "# 5."
      ]
    },
    {
      "cell_type": "code",
      "metadata": {
        "colab": {
          "base_uri": "https://localhost:8080/"
        },
        "id": "XXnmucysiLUJ",
        "outputId": "17360b00-402b-45dc-d8cb-0e50f022b298"
      },
      "source": [
        "def sum_cube_natural(n):\n",
        "  return ((n*(n+1))/2)**2\n",
        "a1=eval(input('Enter the range of natural numbers you want to see sum result: '))\n",
        "print(\"\\nThe summation of result is in below :\\n\")\n",
        "for i in range(1,a1+1):\n",
        "  if i!=a1:\n",
        "    print(i,\"^3 +\",end=\" \")\n",
        "  if i==a1:\n",
        "    print(i,\"^3 =\",end=\" \")\n",
        "sum_cube_natural(a1)"
      ],
      "execution_count": 100,
      "outputs": [
        {
          "output_type": "stream",
          "name": "stdout",
          "text": [
            "Enter the range of natural numbers you want to see sum result: 12\n",
            "\n",
            "The summation of result is in below :\n",
            "\n",
            "1 ^3 + 2 ^3 + 3 ^3 + 4 ^3 + 5 ^3 + 6 ^3 + 7 ^3 + 8 ^3 + 9 ^3 + 10 ^3 + 11 ^3 + 12 ^3 = "
          ]
        },
        {
          "output_type": "execute_result",
          "data": {
            "text/plain": [
              "6084.0"
            ]
          },
          "metadata": {},
          "execution_count": 100
        }
      ]
    },
    {
      "cell_type": "markdown",
      "metadata": {
        "id": "gzSRLAt8E-pR"
      },
      "source": [
        "# Assignment 7\n"
      ]
    },
    {
      "cell_type": "markdown",
      "metadata": {
        "id": "adC_NmQsFBgE"
      },
      "source": [
        "# 1."
      ]
    },
    {
      "cell_type": "code",
      "metadata": {
        "colab": {
          "base_uri": "https://localhost:8080/"
        },
        "id": "B9j38K-FHYQt",
        "outputId": "37e17c42-2a3b-4054-be3c-51d76cbfac23"
      },
      "source": [
        "arr =eval(input(\"Enter Array elemnts with comma: \"))\n",
        "\n",
        "sum = 0   \n",
        "for i in range(0, len(arr)):    \n",
        "   sum = sum + arr[i] \n",
        "print(\"Sum of all the elements of an array: \",sum)    "
      ],
      "execution_count": 31,
      "outputs": [
        {
          "output_type": "stream",
          "name": "stdout",
          "text": [
            "Enter Array elemnts with comma: 23,12,54,23,11,90\n",
            "Sum of all the elements of an array:  213\n"
          ]
        }
      ]
    },
    {
      "cell_type": "markdown",
      "metadata": {
        "id": "np3U2iSvI72m"
      },
      "source": [
        "# 2."
      ]
    },
    {
      "cell_type": "code",
      "metadata": {
        "colab": {
          "base_uri": "https://localhost:8080/"
        },
        "id": "PZBL1wmUIcDm",
        "outputId": "86113db2-b233-464b-86a7-c39eceb42e0e"
      },
      "source": [
        "arr =eval(input(\"Enter Array elemnts with comma: \"))  \n",
        "print(\"Largest elements in the array is : \",max(arr))    "
      ],
      "execution_count": 32,
      "outputs": [
        {
          "output_type": "stream",
          "name": "stdout",
          "text": [
            "Enter Array elemnts with comma: 12,34,24,25,87,221,9,54\n",
            "Largest elements in the array is :  221\n"
          ]
        }
      ]
    },
    {
      "cell_type": "markdown",
      "metadata": {
        "id": "c6VFGviuJKBN"
      },
      "source": [
        "# 3."
      ]
    },
    {
      "cell_type": "code",
      "metadata": {
        "colab": {
          "base_uri": "https://localhost:8080/"
        },
        "id": "I5lIVV4bIuXc",
        "outputId": "0e8ac8a3-10c4-4862-a463-3d6cd8c6984d"
      },
      "source": [
        "arr =eval(input(\"Enter Array elemnts with comma: \")) \n",
        "print(\"Rotation of Array : \") \n",
        "for i in range(len(arr)-1,-1,-1):\n",
        "  print(arr[i],end=\" \")"
      ],
      "execution_count": 37,
      "outputs": [
        {
          "output_type": "stream",
          "name": "stdout",
          "text": [
            "Enter Array elemnts with comma: 1,2,3,4,6,7,8,9\n",
            "Rotation of Array : \n",
            "9 8 7 6 4 3 2 1 "
          ]
        }
      ]
    },
    {
      "cell_type": "markdown",
      "metadata": {
        "id": "feTmN89AJ8sh"
      },
      "source": [
        "# 4."
      ]
    },
    {
      "cell_type": "code",
      "metadata": {
        "colab": {
          "base_uri": "https://localhost:8080/"
        },
        "id": "Kw-VUDTSIxbr",
        "outputId": "3a3746ab-02fe-49dc-bc75-519b781d24fb"
      },
      "source": [
        "arr=[12,23,4,5,6,7,21,4]\n",
        "arr2=[]\n",
        "split_length=(len(arr)//2)\n",
        "print(split_length)\n",
        "arr1=arr[0:split_length]\n",
        "for i in range(split_length):\n",
        "  arr2.append(arr[0])\n",
        "  arr.remove(arr[0])\n",
        "arr.extend(arr2)  \n",
        "print(arr)  "
      ],
      "execution_count": 65,
      "outputs": [
        {
          "output_type": "stream",
          "name": "stdout",
          "text": [
            "4\n",
            "[6, 7, 21, 4, 12, 23, 4, 5]\n"
          ]
        }
      ]
    },
    {
      "cell_type": "markdown",
      "metadata": {
        "id": "edswimueOK8J"
      },
      "source": [
        "# 5."
      ]
    },
    {
      "cell_type": "code",
      "metadata": {
        "colab": {
          "base_uri": "https://localhost:8080/"
        },
        "id": "cl9U8BbHMhoy",
        "outputId": "abc7096e-602f-4f90-d739-3c80d7753a63"
      },
      "source": [
        " def isMonotonic(a):\n",
        "  return (all(a[i] <= a[i + 1] for i in range(len(a) - 1)) or all(a[i] >= a[i + 1] for i in range(len(a) - 1)))\n",
        "  \n",
        "arr =eval(input(\"Enter Array elemnts with comma: \")) \n",
        "print(\"\\nIs the array monotonic ? \")\n",
        "print(isMonotonic(arr))"
      ],
      "execution_count": 71,
      "outputs": [
        {
          "output_type": "stream",
          "name": "stdout",
          "text": [
            "Enter Array elemnts with comma: 1,2,3,4,34\n",
            "\n",
            "Is the array monotonic ? \n",
            "True\n"
          ]
        }
      ]
    },
    {
      "cell_type": "markdown",
      "metadata": {
        "id": "vcBCIxgwlINf"
      },
      "source": [
        "# Assignment 8"
      ]
    },
    {
      "cell_type": "markdown",
      "metadata": {
        "id": "5meM9LZUl9l_"
      },
      "source": [
        "# 1."
      ]
    },
    {
      "cell_type": "code",
      "metadata": {
        "colab": {
          "base_uri": "https://localhost:8080/"
        },
        "id": "uMNjBMJKOctC",
        "outputId": "1de1ecfe-0f6c-4276-b2c6-da1c48f9dc05"
      },
      "source": [
        "X = [[1,52,3],\n",
        "    [4 ,5,36],\n",
        "    [47 ,44,19]]\n",
        " \n",
        "Y = [[19,8,7],\n",
        "    [62,15,4],\n",
        "    [3,32,1]]\n",
        " \n",
        " \n",
        "result = [[0,0,0],\n",
        "        [0,0,0],\n",
        "        [0,0,0]]\n",
        " \n",
        "for i in range(len(X)):\n",
        "  for j in range(len(X[0])):\n",
        "    result[i][j] = X[i][j] + Y[i][j]\n",
        "print(\"The Result of Matrix Addition is \")\n",
        "for r in result:\n",
        "    print(r)"
      ],
      "execution_count": 107,
      "outputs": [
        {
          "output_type": "stream",
          "name": "stdout",
          "text": [
            "The Result of Matrix Addition is \n",
            "[20, 60, 10]\n",
            "[66, 20, 40]\n",
            "[50, 76, 20]\n"
          ]
        }
      ]
    },
    {
      "cell_type": "markdown",
      "metadata": {
        "id": "A66id6CQmH4S"
      },
      "source": [
        "# 2."
      ]
    },
    {
      "cell_type": "code",
      "metadata": {
        "colab": {
          "base_uri": "https://localhost:8080/"
        },
        "id": "y5dwtMk3lipW",
        "outputId": "f061ee34-b262-433c-f4c6-cb2ed86f0af7"
      },
      "source": [
        "X= [[2, 7, 3],\n",
        "    [4, 5, 6],\n",
        "    [7, 8, 9]]\n",
        " \n",
        "Y = [[1, 8, 1, 2],\n",
        "    [3, 7, 3, 0],\n",
        "    [4, 5, 9, 1]]\n",
        "     \n",
        "result = [[0, 0, 0, 0],\n",
        "        [0, 0, 0, 0],\n",
        "        [0, 0, 0, 0]]\n",
        " \n",
        "for i in range(len(X)):\n",
        "  for j in range(len(Y[0])):\n",
        "    for k in range(len(Y)):\n",
        "      result[i][j] += X[i][k] * Y[k][j]\n",
        "print(\"The Result of Matrix Multiplication is \")\n",
        "for r in result:\n",
        "    print(r)"
      ],
      "execution_count": 111,
      "outputs": [
        {
          "output_type": "stream",
          "name": "stdout",
          "text": [
            "The Result of Matrix Multiplication is \n",
            "[35, 80, 50, 7]\n",
            "[43, 97, 73, 14]\n",
            "[67, 157, 112, 23]\n"
          ]
        }
      ]
    },
    {
      "cell_type": "markdown",
      "metadata": {
        "id": "VDb8I6hjm5mv"
      },
      "source": [
        "# 3.\n"
      ]
    },
    {
      "cell_type": "code",
      "metadata": {
        "colab": {
          "base_uri": "https://localhost:8080/"
        },
        "id": "XWQS6Z7znRS0",
        "outputId": "11e0e462-3ec9-4bb7-924d-19e6ccd790ea"
      },
      "source": [
        "M = 3\n",
        "N = 4\n",
        "\n",
        "def transpose(A, B):\n",
        "  for i in range(N):\n",
        "    for j in range(M):\n",
        "      B[i][j] = A[j][i]\n",
        "  \n",
        "A = [ [1, 1, 1, 1],\n",
        "    [2, 2, 2, 2],\n",
        "    [3, 3, 3, 3]]\n",
        "\n",
        "B = [[0 for x in range(M)] for y in range(N)] \n",
        "  \n",
        "transpose(A, B)\n",
        "  \n",
        "print(\"Result matrix is\")\n",
        "for i in range(N):\n",
        "    for j in range(M):\n",
        "        print(B[i][j], \" \", end='')\n",
        "    print()"
      ],
      "execution_count": 117,
      "outputs": [
        {
          "output_type": "stream",
          "name": "stdout",
          "text": [
            "Result matrix is\n",
            "1  2  3  \n",
            "1  2  3  \n",
            "1  2  3  \n",
            "1  2  3  \n"
          ]
        }
      ]
    },
    {
      "cell_type": "markdown",
      "metadata": {
        "id": "AQtYRAwcoIzB"
      },
      "source": [
        "# 4."
      ]
    },
    {
      "cell_type": "code",
      "metadata": {
        "id": "-W9VUAXQosk0"
      },
      "source": [
        "def sort_func(S):\n",
        "  W = S.split(\" \")\n",
        "  for i in range(len(W)):\n",
        "    W[i]=W[i].lower()\n",
        "    S = sorted(W)\n",
        "  print(\" \".join(S))"
      ],
      "execution_count": 131,
      "outputs": []
    },
    {
      "cell_type": "code",
      "metadata": {
        "colab": {
          "base_uri": "https://localhost:8080/"
        },
        "id": "DRhPZBakpnUj",
        "outputId": "994af68d-6322-4fc0-8288-26a74e709495"
      },
      "source": [
        "input='Sausage Orange Tango Lemon Pears Apple'\n",
        "sort_func(input)"
      ],
      "execution_count": 133,
      "outputs": [
        {
          "output_type": "stream",
          "name": "stdout",
          "text": [
            "apple lemon orange pears sausage tango\n"
          ]
        }
      ]
    },
    {
      "cell_type": "markdown",
      "metadata": {
        "id": "HFttMuvRqRC-"
      },
      "source": [
        "# 5."
      ]
    },
    {
      "cell_type": "code",
      "metadata": {
        "colab": {
          "base_uri": "https://localhost:8080/"
        },
        "id": "FpVpqKcYpxv9",
        "outputId": "01473cc7-9c6a-45a3-860d-d85e49b78d56"
      },
      "source": [
        "test_str = \"Gfg, is best : for ! Geeks ;\"\n",
        "\n",
        "punc = '''!()-[]{};:'\"\\,<>./?@#$%^&*_~'''\n",
        " \n",
        "for ele in test_str:\n",
        "    if ele in punc:\n",
        "        test_str = test_str.replace(ele, \"\")\n",
        " \n",
        "print(\"The string after punctuation filter : \" + test_str)"
      ],
      "execution_count": 134,
      "outputs": [
        {
          "output_type": "stream",
          "name": "stdout",
          "text": [
            "The string after punctuation filter : Gfg is best  for  Geeks \n"
          ]
        }
      ]
    },
    {
      "cell_type": "markdown",
      "metadata": {
        "id": "-OwZwoABqzLh"
      },
      "source": [
        "# Assignment 9:"
      ]
    },
    {
      "cell_type": "markdown",
      "metadata": {
        "id": "_KJoPUhMrKKo"
      },
      "source": [
        "# 1.\n",
        "Input   : n = 135\n",
        "Output  : Yes \n",
        "1^1 + 3^2 + 5^3 = 135\n",
        "Therefore, 135 is a Disarium number"
      ]
    },
    {
      "cell_type": "code",
      "metadata": {
        "id": "Ti6-L5iYqr0g"
      },
      "source": [
        "\n",
        " \n",
        "def check_disarium(n) :\n",
        "  import math\n",
        "  digit_count = len(str(n))\n",
        "  sum = 0  \n",
        "  x = n\n",
        "  while (x!=0) :\n",
        "    rem = x % 10\n",
        "    sum = int((sum + math.pow(rem,digit_count)))\n",
        "    digit_count = digit_count- 1\n",
        "    x = x//10\n",
        "  if sum == n :\n",
        "    print(\"This is Disarium Number\")\n",
        "  else:\n",
        "    print(\"This is not a Disarium Number\")"
      ],
      "execution_count": 15,
      "outputs": []
    },
    {
      "cell_type": "code",
      "metadata": {
        "colab": {
          "base_uri": "https://localhost:8080/"
        },
        "id": "PcVIqdF9_6K_",
        "outputId": "7c4faf9c-73bc-4eb7-fdba-6a06adad0cf5"
      },
      "source": [
        "num = eval(input(\"Enter number : \"))  \n",
        "check_disarium(num)"
      ],
      "execution_count": 17,
      "outputs": [
        {
          "output_type": "stream",
          "name": "stdout",
          "text": [
            "Enter number : 135\n",
            "This is Disarium Number\n"
          ]
        }
      ]
    },
    {
      "cell_type": "markdown",
      "metadata": {
        "id": "hI-nVBNTucCP"
      },
      "source": [
        "# 2."
      ]
    },
    {
      "cell_type": "code",
      "metadata": {
        "colab": {
          "base_uri": "https://localhost:8080/"
        },
        "id": "fKarcb62tqiX",
        "outputId": "93dbd4e4-1059-4fec-8206-b014d850286d"
      },
      "source": [
        "def check_disarium(n) :\n",
        "  import math\n",
        "  digit_count = len(str(n))\n",
        "  sum = 0  \n",
        "  x = n\n",
        "  while (x!=0) :\n",
        "    rem = x % 10\n",
        "    sum = int((sum + math.pow(rem,digit_count)))\n",
        "    digit_count = digit_count- 1\n",
        "    x = x//10\n",
        "  if sum == n :\n",
        "    return n\n",
        "check_disarium(135)\n",
        "l=eval(input(\"Enter lower interval : \"))\n",
        "u=eval(input(\"Enter upper interval : \"))\n",
        "print(\"Disarium numbers in this interval : \")\n",
        "while (l<=u ) :\n",
        "    if check_disarium(l)==l :\n",
        "        print(l,end=\" \")\n",
        "    l=l + 1"
      ],
      "execution_count": 21,
      "outputs": [
        {
          "output_type": "stream",
          "name": "stdout",
          "text": [
            "Enter lower interval : 1\n",
            "Enter upper interval : 100\n",
            "Disarium numbers in this interval : \n",
            "1 2 3 4 5 6 7 8 9 89 "
          ]
        }
      ]
    },
    {
      "cell_type": "markdown",
      "metadata": {
        "id": "RadT-AVrugTY"
      },
      "source": [
        "# 3."
      ]
    },
    {
      "cell_type": "markdown",
      "metadata": {
        "id": "M0FtxVPK0Z-U"
      },
      "source": [
        "A number is called happy if it leads to 1 after a sequence of steps wherein each step number is replaced by the sum of squares of its digit that is if we start with Happy Number and keep replacing it with digits square sum, we reach 1. \n",
        "\n",
        "Examples : \n",
        "\n",
        "Input: n = 19\n",
        "Output: True\n",
        "19 is Happy Number,\n",
        "1^2 + 9^2 = 82\n",
        "8^2 + 2^2 = 68\n",
        "6^2 + 8^2 = 100\n",
        "1^2 + 0^2 + 0^2 = 1\n",
        "As we reached to 1, 19 is a Happy Number."
      ]
    },
    {
      "cell_type": "code",
      "metadata": {
        "colab": {
          "base_uri": "https://localhost:8080/"
        },
        "id": "hug187v5w8O5",
        "outputId": "79456f7d-46df-43ca-a556-37c87fe3fa9f"
      },
      "source": [
        "def isHappyNumber(num):    \n",
        "    rem = sum = 0;        \n",
        "    while(num > 0):    \n",
        "        rem = num%10    \n",
        "        sum = sum + (rem*rem)    \n",
        "        num = num//10 \n",
        "    return sum\n",
        "        \n",
        "num = eval(input(\"Enter number : \"))  \n",
        "result = num   \n",
        "     \n",
        "while(result != 1 and result != 4):    \n",
        "    result = isHappyNumber(result)   \n",
        "     \n",
        "  \n",
        "if(result == 1):    \n",
        "    print(str(num) + \" is a happy number\");    \n",
        "\n",
        "elif(result == 4):    \n",
        "    print(str(num) + \" is not a happy number\");   \n"
      ],
      "execution_count": 13,
      "outputs": [
        {
          "output_type": "stream",
          "name": "stdout",
          "text": [
            "Enter number : 82\n",
            "82 is a happy number\n"
          ]
        }
      ]
    },
    {
      "cell_type": "markdown",
      "metadata": {
        "id": "VJm8QzSZxSMG"
      },
      "source": [
        "# 4."
      ]
    },
    {
      "cell_type": "code",
      "metadata": {
        "colab": {
          "base_uri": "https://localhost:8080/"
        },
        "id": "003y5A224s0R",
        "outputId": "72a90760-e814-40f8-feb6-e9a03b727b75"
      },
      "source": [
        "def isHappyNumber(num):  \n",
        "  rem = sum = 0   \n",
        "  while(num > 0):  \n",
        "    rem = num%10  \n",
        "    sum = sum + (rem*rem)  \n",
        "    num = num//10 \n",
        "  return sum\n",
        "\n",
        "l=eval(input(\"Enter lower interval : \"))\n",
        "u=eval(input(\"Enter upper interval : \"))            \n",
        "print(\"Happy numbers in this interval : \")\n",
        "for i in range(l,u+1):  \n",
        "  result = i\n",
        "  while(result != 1 and result != 4):\n",
        "    result = isHappyNumber(result)  \n",
        "  if(result == 1):\n",
        "    print(i,end=\" \") "
      ],
      "execution_count": 35,
      "outputs": [
        {
          "output_type": "stream",
          "name": "stdout",
          "text": [
            "Enter lower interval : 1\n",
            "Enter upper interval : 100\n",
            "Happy numbers in this interval : \n",
            "1 7 10 13 19 23 28 31 32 44 49 68 70 79 82 86 91 94 97 100 "
          ]
        }
      ]
    },
    {
      "cell_type": "markdown",
      "metadata": {
        "id": "zrz7tyOlxeVl"
      },
      "source": [
        "# 5."
      ]
    },
    {
      "cell_type": "markdown",
      "metadata": {
        "id": "JWsBY77Hx53T"
      },
      "source": [
        "If a number is divisible by the sum of its digits, then it will be known as a Harshad Number."
      ]
    },
    {
      "cell_type": "markdown",
      "metadata": {
        "id": "vOtlvx-pz9Mw"
      },
      "source": [
        "The number 156 is divisible by the sum (12) of its digits (1, 5, 6 )."
      ]
    },
    {
      "cell_type": "code",
      "metadata": {
        "colab": {
          "base_uri": "https://localhost:8080/"
        },
        "id": "bD_ycAEJxfNj",
        "outputId": "036ceb13-5a23-495a-f728-3507787cb95a"
      },
      "source": [
        "num = eval(input(\"Enter number : \"))  \n",
        "rem = sum = 0 \n",
        "n = num\n",
        "     \n",
        "while(num > 0):    \n",
        "    rem = num%10;    \n",
        "    sum = sum + rem;    \n",
        "    num = num//10;    \n",
        "       \n",
        "if(n%sum == 0):    \n",
        "    print(str(n) + \" is a harshad number\") \n",
        "else:    \n",
        "    print(str(n) + \" is not a harshad number\")"
      ],
      "execution_count": 15,
      "outputs": [
        {
          "output_type": "stream",
          "name": "stdout",
          "text": [
            "Enter number : 156\n",
            "156 is a harshad number\n"
          ]
        }
      ]
    },
    {
      "cell_type": "markdown",
      "metadata": {
        "id": "k30UI_7oyAaf"
      },
      "source": [
        "# 6."
      ]
    },
    {
      "cell_type": "markdown",
      "metadata": {
        "id": "y5xC-VLjzFya"
      },
      "source": [
        "Pronic number is a number which is the product of two consecutive integers, that is, a number n is a product of x and (x+1)."
      ]
    },
    {
      "cell_type": "markdown",
      "metadata": {
        "id": "pY17eDKUzJ-f"
      },
      "source": [
        "The first few Pronic numbers are: \n",
        "0, 2, 6, 12, 20, 30, 42, 56, 72, 90, 110, 132, 156, 182, 210, 240, 272, 306, 342, 380, 420, 462"
      ]
    },
    {
      "cell_type": "code",
      "metadata": {
        "colab": {
          "base_uri": "https://localhost:8080/"
        },
        "id": "tR19TpcvxvUh",
        "outputId": "d6019ded-2046-4b0a-d42f-cc6020f0f75a"
      },
      "source": [
        "def checkPronic (x) :\n",
        "  import math\n",
        "  i = 0\n",
        "  while ( i <= (int)(math.sqrt(x)) ) :\n",
        "    if ( x == i * (i + 1)) :\n",
        "      return True\n",
        "    i = i + 1\n",
        "  return False\n",
        "\n",
        "l=eval(input(\"Enter lower interval : \"))\n",
        "u=eval(input(\"Enter upper interval : \"))\n",
        "print(\"Pronic numbers in this interval : \")\n",
        "while (l<=u ) :\n",
        "    if checkPronic(l) :\n",
        "        print(l,end=\" \")\n",
        "    l=l + 1"
      ],
      "execution_count": 23,
      "outputs": [
        {
          "output_type": "stream",
          "name": "stdout",
          "text": [
            "Enter lower interval : 1\n",
            "Enter upper interval : 100\n",
            "Pronic numbers in this interval : \n",
            "2 6 12 20 30 42 56 72 90 "
          ]
        }
      ]
    },
    {
      "cell_type": "markdown",
      "metadata": {
        "id": "Dwqm-CpI0I6V"
      },
      "source": [
        "# Assignment 10:"
      ]
    },
    {
      "cell_type": "markdown",
      "metadata": {
        "id": "OC_oiSC3BdsT"
      },
      "source": [
        "# 1."
      ]
    },
    {
      "cell_type": "code",
      "metadata": {
        "colab": {
          "base_uri": "https://localhost:8080/"
        },
        "id": "W3Y3Ah16y6W5",
        "outputId": "c925f01d-179d-4f0e-a7cd-23632e42aa8f"
      },
      "source": [
        "l=[10,13,15,65,32,23,12]\n",
        "s=0\n",
        "for i in l:\n",
        "  s=s+i\n",
        "print(\"Sum of elements in the list is \",s)"
      ],
      "execution_count": 26,
      "outputs": [
        {
          "output_type": "stream",
          "name": "stdout",
          "text": [
            "Sum of elements in the list is  170\n"
          ]
        }
      ]
    },
    {
      "cell_type": "markdown",
      "metadata": {
        "id": "9yv9t0kqB9K9"
      },
      "source": [
        "# 2."
      ]
    },
    {
      "cell_type": "code",
      "metadata": {
        "colab": {
          "base_uri": "https://localhost:8080/"
        },
        "id": "gWkcrMbcBjEf",
        "outputId": "cfbe5380-32f4-441a-b75b-8030d5c6278f"
      },
      "source": [
        "l=[10,13,15,65,32,23,12]\n",
        "s=1\n",
        "for i in l:\n",
        "  s=s*i\n",
        "print(\"Multiplication of elements in the list is \",s)"
      ],
      "execution_count": 30,
      "outputs": [
        {
          "output_type": "stream",
          "name": "stdout",
          "text": [
            "Multiplication of elements in the list is  1119456000\n"
          ]
        }
      ]
    },
    {
      "cell_type": "markdown",
      "metadata": {
        "id": "lksqgmCoCbh2"
      },
      "source": [
        "# 3.\n"
      ]
    },
    {
      "cell_type": "code",
      "metadata": {
        "colab": {
          "base_uri": "https://localhost:8080/"
        },
        "id": "l2_zu_hKBlq6",
        "outputId": "efbd5f01-af86-46f5-b741-2f1e3cef86e1"
      },
      "source": [
        "l=[10,13,15,65,32,23,12]\n",
        "print(\"Smallest number in the list\",min(l))"
      ],
      "execution_count": 32,
      "outputs": [
        {
          "output_type": "stream",
          "name": "stdout",
          "text": [
            "Smallest number in the list 10\n"
          ]
        }
      ]
    },
    {
      "cell_type": "markdown",
      "metadata": {
        "id": "AL80dWtcCjq8"
      },
      "source": [
        "# 4."
      ]
    },
    {
      "cell_type": "code",
      "metadata": {
        "colab": {
          "base_uri": "https://localhost:8080/"
        },
        "id": "YP-O5dGXChCp",
        "outputId": "b3c6b593-9541-4f3e-d5eb-9f099d40983e"
      },
      "source": [
        "l=[10,13,15,65,32,23,12]\n",
        "print(\"Largest number in the list\",max(l))"
      ],
      "execution_count": 33,
      "outputs": [
        {
          "output_type": "stream",
          "name": "stdout",
          "text": [
            "Largest number in the list 65\n"
          ]
        }
      ]
    },
    {
      "cell_type": "markdown",
      "metadata": {
        "id": "nO7-dLpqCuQ2"
      },
      "source": [
        "# 5."
      ]
    },
    {
      "cell_type": "code",
      "metadata": {
        "colab": {
          "base_uri": "https://localhost:8080/"
        },
        "id": "13e2ATGxCpGu",
        "outputId": "f68349ad-5877-43c7-86a8-0520ddcb3b47"
      },
      "source": [
        "l=[10,13,15,65,32,23,12]\n",
        "l.remove(max(l))\n",
        "print(\"Second largest number in the list\",max(l))"
      ],
      "execution_count": 43,
      "outputs": [
        {
          "output_type": "stream",
          "name": "stdout",
          "text": [
            "Second largest number in the list 32\n"
          ]
        }
      ]
    },
    {
      "cell_type": "markdown",
      "metadata": {
        "id": "cl4nEJ-PDsHc"
      },
      "source": [
        "# 6."
      ]
    },
    {
      "cell_type": "code",
      "metadata": {
        "colab": {
          "base_uri": "https://localhost:8080/"
        },
        "id": "SAZ3948eC67-",
        "outputId": "02b5cf0f-6dcf-4980-f4a6-ddf4402a9a8d"
      },
      "source": [
        "l=[10,13,15,65,32,23,12]\n",
        "k=eval(input(\"Enter the number you want see that largest number \"))\n",
        "for i in range(k-1):\n",
        "  l.remove(max(l))\n",
        "print(\"{0} no. largest number in the list is {1}\".format(k,max(l)))"
      ],
      "execution_count": 49,
      "outputs": [
        {
          "output_type": "stream",
          "name": "stdout",
          "text": [
            "Enter the number you want see that largest number 3\n",
            "3 no. largest number in the list is 23\n"
          ]
        }
      ]
    },
    {
      "cell_type": "markdown",
      "metadata": {
        "id": "zasWAHirE8nO"
      },
      "source": [
        "# 7."
      ]
    },
    {
      "cell_type": "code",
      "metadata": {
        "colab": {
          "base_uri": "https://localhost:8080/"
        },
        "id": "26T1J_N5DOa8",
        "outputId": "c869ca0b-8b24-412d-985a-ee4d36ec09a7"
      },
      "source": [
        "l=[10,13,15,65,32,23,12]\n",
        "[x for x in l if x%2 == 0]"
      ],
      "execution_count": 55,
      "outputs": [
        {
          "output_type": "execute_result",
          "data": {
            "text/plain": [
              "[10, 32, 12]"
            ]
          },
          "metadata": {},
          "execution_count": 55
        }
      ]
    },
    {
      "cell_type": "markdown",
      "metadata": {
        "id": "R9W1BAWmFtgA"
      },
      "source": [
        "# 8."
      ]
    },
    {
      "cell_type": "code",
      "metadata": {
        "colab": {
          "base_uri": "https://localhost:8080/"
        },
        "id": "5aqjMyFjDgRw",
        "outputId": "6e499b9a-09a4-487d-8b30-7b859304dd5e"
      },
      "source": [
        "l=[10,13,15,65,32,23,12]\n",
        "[x for x in l if x%2 != 0]"
      ],
      "execution_count": 56,
      "outputs": [
        {
          "output_type": "execute_result",
          "data": {
            "text/plain": [
              "[13, 15, 65, 23]"
            ]
          },
          "metadata": {},
          "execution_count": 56
        }
      ]
    },
    {
      "cell_type": "markdown",
      "metadata": {
        "id": "0ZIVwq96Fyt9"
      },
      "source": [
        "# 9."
      ]
    },
    {
      "cell_type": "code",
      "metadata": {
        "colab": {
          "base_uri": "https://localhost:8080/"
        },
        "id": "oMHinOpuFxEp",
        "outputId": "5970b223-ec2c-406b-f36e-88b9dd1eba2e"
      },
      "source": [
        "l=[10,13,[],15,65,[],32,[],23,[],12,[]]\n",
        "\n",
        "print([x for x in l if x])"
      ],
      "execution_count": 111,
      "outputs": [
        {
          "output_type": "execute_result",
          "data": {
            "text/plain": [
              "[10, 13, 15, 65, 32, 23, 12]"
            ]
          },
          "metadata": {},
          "execution_count": 111
        }
      ]
    },
    {
      "cell_type": "markdown",
      "metadata": {
        "id": "skE2R8kxHPzr"
      },
      "source": [
        "# 10."
      ]
    },
    {
      "cell_type": "code",
      "metadata": {
        "colab": {
          "base_uri": "https://localhost:8080/"
        },
        "id": "rco3VMAoIEGf",
        "outputId": "9936a390-0fa3-422a-bbe7-98726bbb114f"
      },
      "source": [
        "import copy\n",
        "l=[10,13,15,65,32,23,12,65,34,6,46,65,78,65,45]\n",
        "\n",
        "l1= copy.copy(l)   #shallow copy\n",
        "\n",
        "print(l1)"
      ],
      "execution_count": 82,
      "outputs": [
        {
          "output_type": "stream",
          "name": "stdout",
          "text": [
            "[10, 13, 15, 65, 32, 23, 12, 65, 34, 6, 46, 65, 78, 65, 45]\n"
          ]
        }
      ]
    },
    {
      "cell_type": "markdown",
      "metadata": {
        "id": "dNUtmSTDICj8"
      },
      "source": [
        "# 11."
      ]
    },
    {
      "cell_type": "code",
      "metadata": {
        "colab": {
          "base_uri": "https://localhost:8080/"
        },
        "id": "VZftBV3zHQ0f",
        "outputId": "2ab309e4-9581-4bdc-9f5a-f8d4132b00d1"
      },
      "source": [
        "l=[10,13,15,65,32,23,12,65,34,6,46,65,78,65,45]\n",
        "n=eval(input(\"Enter a number you want to count occurance : \"))\n",
        "if n not in l:\n",
        "  print(\"The number is not in the list\")\n",
        "else:\n",
        "  print(\"Occurance of {0} is {1}\".format(n,l.count(n)))"
      ],
      "execution_count": 67,
      "outputs": [
        {
          "output_type": "stream",
          "name": "stdout",
          "text": [
            "Enter a number you want to count occurance : 65\n",
            "Occurance of 65 is 4\n"
          ]
        }
      ]
    },
    {
      "cell_type": "code",
      "metadata": {
        "id": "PFR9Jsf6HSV6"
      },
      "source": [
        ""
      ],
      "execution_count": null,
      "outputs": []
    }
  ]
}