{
  "nbformat": 4,
  "nbformat_minor": 0,
  "metadata": {
    "colab": {
      "name": "Python Programming Basic Assignment.ipynb",
      "provenance": [],
      "collapsed_sections": []
    },
    "kernelspec": {
      "name": "python3",
      "display_name": "Python 3"
    },
    "language_info": {
      "name": "python"
    }
  },
  "cells": [
    {
      "cell_type": "markdown",
      "metadata": {
        "id": "8BL5eE6MBaYL"
      },
      "source": [
        "# Assignment 1-5"
      ]
    },
    {
      "cell_type": "markdown",
      "metadata": {
        "id": "EDSl3F0d8g6T"
      },
      "source": [
        "# Assignment 1"
      ]
    },
    {
      "cell_type": "markdown",
      "metadata": {
        "id": "x7jzGCzI9MdC"
      },
      "source": [
        "# 1."
      ]
    },
    {
      "cell_type": "code",
      "metadata": {
        "colab": {
          "base_uri": "https://localhost:8080/"
        },
        "id": "RPaRi8XN8xq1",
        "outputId": "40790212-4f6e-4462-98db-698352e09ab6"
      },
      "source": [
        "print(\"Hello Python\")"
      ],
      "execution_count": null,
      "outputs": [
        {
          "output_type": "stream",
          "name": "stdout",
          "text": [
            "Hello Python\n"
          ]
        }
      ]
    },
    {
      "cell_type": "markdown",
      "metadata": {
        "id": "1-C3IxFF9OAd"
      },
      "source": [
        "# 2."
      ]
    },
    {
      "cell_type": "code",
      "metadata": {
        "id": "rxdOXzwa9CW7"
      },
      "source": [
        "def sum(a,b):\n",
        "  return a+b;\n",
        "def div(a,b):\n",
        "    if b!=0:\n",
        "      return a/b\n",
        "    else:\n",
        "      print(\"Try different number\")  \n",
        "      "
      ],
      "execution_count": null,
      "outputs": []
    },
    {
      "cell_type": "code",
      "metadata": {
        "colab": {
          "base_uri": "https://localhost:8080/"
        },
        "id": "iXoYDwRB-ID3",
        "outputId": "dfee59c9-8667-454a-e655-3dde8f75f24a"
      },
      "source": [
        "a1=eval(input('Enter 1st Number : '))\n",
        "b1=eval(input('Enter 2nd Number :' ))\n",
        "print(\"The summation result is\",sum(a1,b1))\n",
        "print(\"The division result is\",div(a1,b1))"
      ],
      "execution_count": null,
      "outputs": [
        {
          "output_type": "stream",
          "name": "stdout",
          "text": [
            "Enter 1st Number : 12\n",
            "Enter 2nd Number :12\n",
            "The summation result is 24\n",
            "The division result is 1.0\n"
          ]
        }
      ]
    },
    {
      "cell_type": "markdown",
      "metadata": {
        "id": "CncvbkhdAE3V"
      },
      "source": [
        "# 3."
      ]
    },
    {
      "cell_type": "code",
      "metadata": {
        "id": "_AbDa5ju-J_T"
      },
      "source": [
        "def area_triangle(base,height):\n",
        "  return (base*height)/2"
      ],
      "execution_count": null,
      "outputs": []
    },
    {
      "cell_type": "code",
      "metadata": {
        "colab": {
          "base_uri": "https://localhost:8080/"
        },
        "id": "3I0KJ7-e-MRt",
        "outputId": "ee49adf6-5552-4c29-b34e-ae2bc934c6f9"
      },
      "source": [
        "a1=eval(input('Enter base length  : '))\n",
        "b1=eval(input('Enter height length :' ))\n",
        "print(\"The area of triangle is\",area_triangle(a1,b1))"
      ],
      "execution_count": null,
      "outputs": [
        {
          "output_type": "stream",
          "name": "stdout",
          "text": [
            "Enter base length : 16\n",
            "Enter height length :68\n",
            "The area of triangle is 544.0\n"
          ]
        }
      ]
    },
    {
      "cell_type": "markdown",
      "metadata": {
        "id": "fFaRjkOfAyUv"
      },
      "source": [
        "# 4."
      ]
    },
    {
      "cell_type": "code",
      "metadata": {
        "id": "vF4lYdcDAoUq"
      },
      "source": [
        "def swap(a,b):\n",
        "  t=a\n",
        "  a=b\n",
        "  b=t\n",
        "  return (a,b)"
      ],
      "execution_count": 15,
      "outputs": []
    },
    {
      "cell_type": "code",
      "metadata": {
        "colab": {
          "base_uri": "https://localhost:8080/"
        },
        "id": "_GZdHOUJBBT7",
        "outputId": "47c009b6-1be7-480e-8373-d3fa5608add6"
      },
      "source": [
        "a1=eval(input('Enter 1st Number : '))\n",
        "b1=eval(input('Enter 2nd Number : ' ))\n",
        "result=swap(a1,b1)\n",
        "print('After Swaping ', result[0], result[1])"
      ],
      "execution_count": 31,
      "outputs": [
        {
          "output_type": "stream",
          "name": "stdout",
          "text": [
            "Enter 1st Number : 4\n",
            "Enter 2nd Number :5\n",
            "After Swaping  5 4\n"
          ]
        }
      ]
    },
    {
      "cell_type": "markdown",
      "metadata": {
        "id": "dfv9kwSFBWi_"
      },
      "source": [
        "# 5."
      ]
    },
    {
      "cell_type": "code",
      "metadata": {
        "colab": {
          "base_uri": "https://localhost:8080/"
        },
        "id": "LvUEEgEZBDHG",
        "outputId": "f25ab60a-ac0e-485d-ad45-a8f8808384d5"
      },
      "source": [
        "import random\n",
        "n = random.randint(0,100)\n",
        "print(n)"
      ],
      "execution_count": null,
      "outputs": [
        {
          "output_type": "stream",
          "name": "stdout",
          "text": [
            "56\n"
          ]
        }
      ]
    },
    {
      "cell_type": "markdown",
      "metadata": {
        "id": "7XtT62UtCiA1"
      },
      "source": [
        ""
      ]
    },
    {
      "cell_type": "markdown",
      "metadata": {
        "id": "w7_wQAtgChkb"
      },
      "source": [
        "# Assignment 2"
      ]
    },
    {
      "cell_type": "markdown",
      "metadata": {
        "id": "GIXl0oCuA51i"
      },
      "source": [
        "# 1."
      ]
    },
    {
      "cell_type": "code",
      "metadata": {
        "id": "jbzWJ5TNB72P"
      },
      "source": [
        "def km_to_mile(a):\n",
        "  return a/1.609"
      ],
      "execution_count": 1,
      "outputs": []
    },
    {
      "cell_type": "code",
      "metadata": {
        "colab": {
          "base_uri": "https://localhost:8080/"
        },
        "id": "MjnEC3SuBQCt",
        "outputId": "65877f96-45ae-406b-abb5-745d8da3eee2"
      },
      "source": [
        "b1=eval(input('Enter the kilometer :' ))\n",
        "print(\"The repected mile is \",km_to_mile(b1), 'miles')"
      ],
      "execution_count": 3,
      "outputs": [
        {
          "output_type": "stream",
          "name": "stdout",
          "text": [
            "Enter the kilometer :23\n",
            "The repected mile is  14.294592914853947 miles\n"
          ]
        }
      ]
    },
    {
      "cell_type": "markdown",
      "metadata": {
        "id": "TyQc9pVCBsJL"
      },
      "source": [
        "# 2."
      ]
    },
    {
      "cell_type": "code",
      "metadata": {
        "id": "fjF8ZgbJBkMu"
      },
      "source": [
        "def cel_to_far(a):\n",
        "  return a*(9/5)+32"
      ],
      "execution_count": 4,
      "outputs": []
    },
    {
      "cell_type": "code",
      "metadata": {
        "colab": {
          "base_uri": "https://localhost:8080/"
        },
        "id": "GisGm9_SB52i",
        "outputId": "9f50cc90-c2ea-40a8-ae1a-34e476d5e4ed"
      },
      "source": [
        "b1=eval(input('Enter the celcius degree in degree celcius : ' ))\n",
        "print(\"The repected farenhite degree is \",km_to_mile(b1), 'F')"
      ],
      "execution_count": 8,
      "outputs": [
        {
          "output_type": "stream",
          "name": "stdout",
          "text": [
            "Enter the celcius degree in degree celcius :0\n",
            "The repected farenhite degree is  0.0 F\n"
          ]
        }
      ]
    },
    {
      "cell_type": "markdown",
      "metadata": {
        "id": "RVoAm5eJCd_s"
      },
      "source": [
        "# 3."
      ]
    },
    {
      "cell_type": "code",
      "metadata": {
        "colab": {
          "base_uri": "https://localhost:8080/"
        },
        "id": "bJ8QhYipB_k_",
        "outputId": "f4f13af0-160b-4bd1-97f6-8eeb2d1ec917"
      },
      "source": [
        "import calendar\n",
        "\n",
        "yy = int(input(\"Enter year: \"))\n",
        "mm = int(input(\"Enter month in mumeric form: \"))\n",
        "\n",
        "print(calendar.month(yy, mm))"
      ],
      "execution_count": 10,
      "outputs": [
        {
          "output_type": "stream",
          "name": "stdout",
          "text": [
            "Enter year: 2021\n",
            "Enter month: 9\n",
            "   September 2021\n",
            "Mo Tu We Th Fr Sa Su\n",
            "       1  2  3  4  5\n",
            " 6  7  8  9 10 11 12\n",
            "13 14 15 16 17 18 19\n",
            "20 21 22 23 24 25 26\n",
            "27 28 29 30\n",
            "\n"
          ]
        }
      ]
    },
    {
      "cell_type": "markdown",
      "metadata": {
        "id": "d4AZxrMJDBar"
      },
      "source": [
        "# 4."
      ]
    },
    {
      "cell_type": "code",
      "metadata": {
        "colab": {
          "base_uri": "https://localhost:8080/"
        },
        "id": "pkD69VT8CpS4",
        "outputId": "464a4477-61ee-4cef-98b2-0c5e7e40b6c4"
      },
      "source": [
        "import cmath  #importing complex math module\n",
        "\n",
        "a = eval(input('Enter a in aX^2+bX+C form equation : '))\n",
        "b = eval(input('Enter b in aX^2+bX+C form equation : '))\n",
        "c = eval(input('Enter c in aX^2+bX+C form equation : '))\n",
        "\n",
        "\n",
        "d = (b**2) - (4*a*c)  # calculating the discriminant\n",
        "\n",
        "# finding two solutions\n",
        "sol1 = (-b-cmath.sqrt(d))/(2*a)\n",
        "sol2 = (-b+cmath.sqrt(d))/(2*a)\n",
        "\n",
        "print('The solutions are {0} and {1}'.format(sol1,sol2))"
      ],
      "execution_count": 12,
      "outputs": [
        {
          "output_type": "stream",
          "name": "stdout",
          "text": [
            "Enter a in aX^2+bX+C form equation : 1\n",
            "Enter b in aX^2+bX+C form equation : 4\n",
            "Enter c in aX^2+bX+C form equation : 6\n",
            "The solution are (-2-1.4142135623730951j) and (-2+1.4142135623730951j)\n"
          ]
        }
      ]
    },
    {
      "cell_type": "markdown",
      "metadata": {
        "id": "hdAFIYpzD0Og"
      },
      "source": [
        "# 5."
      ]
    },
    {
      "cell_type": "code",
      "metadata": {
        "id": "jg437mzWDjk0"
      },
      "source": [
        "def swap(a,b):\n",
        "  b,a=a,b\n",
        "  return (a,b)"
      ],
      "execution_count": 27,
      "outputs": []
    },
    {
      "cell_type": "code",
      "metadata": {
        "colab": {
          "base_uri": "https://localhost:8080/"
        },
        "id": "jCI54hxhGUaE",
        "outputId": "7a569330-7e7a-4d7d-f434-942b8612bd2a"
      },
      "source": [
        "a1=eval(input('Enter 1st Number : '))\n",
        "b1=eval(input('Enter 2nd Number : ' ))\n",
        "print('After Swaping ', swap(a1,b1))"
      ],
      "execution_count": 30,
      "outputs": [
        {
          "output_type": "stream",
          "name": "stdout",
          "text": [
            "Enter 1st Number : 10\n",
            "Enter 2nd Number : 12\n",
            "After Swaping  (12, 10)\n"
          ]
        }
      ]
    },
    {
      "cell_type": "markdown",
      "metadata": {
        "id": "jJIJUKGyHAd8"
      },
      "source": [
        "# Assignment 3"
      ]
    },
    {
      "cell_type": "markdown",
      "metadata": {
        "id": "k7aKQ3yEJLD4"
      },
      "source": [
        "# 1."
      ]
    },
    {
      "cell_type": "code",
      "metadata": {
        "id": "O8SLrKe6Gbzz"
      },
      "source": [
        "def number_checking(a):\n",
        "  if a==0:\n",
        "    print(\"The number is zero\")\n",
        "  elif str(a)[0]=='-':\n",
        "    print(\"The number is negative\")\n",
        "  else:\n",
        "    print(\"The number is positive\")    \n"
      ],
      "execution_count": 38,
      "outputs": []
    },
    {
      "cell_type": "code",
      "metadata": {
        "colab": {
          "base_uri": "https://localhost:8080/"
        },
        "id": "IcvE3XFcIEq0",
        "outputId": "c609e257-781a-440b-e51b-7b8115c543a5"
      },
      "source": [
        "while(1):\n",
        "  b1= input(\"press 'Y' or 'y' to continue: \")\n",
        "  if b1=='y' or b1=='Y':\n",
        "    a1=eval(input('Enter Number : '))\n",
        "    number_checking(a1)\n",
        "  else:\n",
        "    break   "
      ],
      "execution_count": 39,
      "outputs": [
        {
          "name": "stdout",
          "output_type": "stream",
          "text": [
            "press 'Y' or 'y' to continue: y\n",
            "Enter Number : 12\n",
            "The number is positive\n",
            "press 'Y' or 'y' to continue: y\n",
            "Enter Number : -12\n",
            "The number is negative\n",
            "press 'Y' or 'y' to continue: y\n",
            "Enter Number : 0\n",
            "The number is zero\n",
            "press 'Y' or 'y' to continue: n\n"
          ]
        }
      ]
    },
    {
      "cell_type": "markdown",
      "metadata": {
        "id": "kxlcUW50JPjd"
      },
      "source": [
        "# 2."
      ]
    },
    {
      "cell_type": "code",
      "metadata": {
        "id": "rH6K8FQNIOjp"
      },
      "source": [
        "def odd_even(a):\n",
        "    if a%2==0:\n",
        "      print(\"The number is even\")\n",
        "    else:\n",
        "      print(\"The number is odd\")\n",
        "  "
      ],
      "execution_count": 40,
      "outputs": []
    },
    {
      "cell_type": "code",
      "metadata": {
        "colab": {
          "base_uri": "https://localhost:8080/"
        },
        "id": "3Dis4ZoVJm_u",
        "outputId": "64636937-3ffd-486d-fa5d-305b9af362ea"
      },
      "source": [
        "while(1):\n",
        "  b1= input(\"press 'Y' or 'y' to continue: \")\n",
        "  if b1=='y' or b1=='Y':\n",
        "    try:\n",
        "      a1=eval(input('Enter Number : '))\n",
        "      odd_even(a1)\n",
        "    except:\n",
        "      print(\"Enter number correctly\")      \n",
        "  else:\n",
        "    break   "
      ],
      "execution_count": 43,
      "outputs": [
        {
          "name": "stdout",
          "output_type": "stream",
          "text": [
            "press 'Y' or 'y' to continue: y\n",
            "Enter Number : 12\n",
            "The number is even\n",
            "press 'Y' or 'y' to continue: y\n",
            "Enter Number : 13\n",
            "The number is odd\n",
            "press 'Y' or 'y' to continue: y\n",
            "Enter Number : []]]]]/\n",
            "Enter number correctly\n",
            "press 'Y' or 'y' to continue: y\n",
            "Enter Number : 90\n",
            "The number is even\n",
            "press 'Y' or 'y' to continue: n\n"
          ]
        }
      ]
    },
    {
      "cell_type": "markdown",
      "metadata": {
        "id": "sk6hYcxOKcH-"
      },
      "source": [
        "# 3."
      ]
    },
    {
      "cell_type": "code",
      "metadata": {
        "id": "HRBBu9fDJyld"
      },
      "source": [
        "def leap_year_checking(a):\n",
        "     if (len(a)==4 or len(a)==3) and int(a[-2:])%4==0:\n",
        "      print(\"The year is leap year\")\n",
        "     elif (len(a)==4 or len(a)==3) and int(a[-2:])%4!=0:\n",
        "      print(\"The year is not leap year\") \n",
        "     else:\n",
        "      print(\"Enter the year correctly\")"
      ],
      "execution_count": 56,
      "outputs": []
    },
    {
      "cell_type": "code",
      "metadata": {
        "colab": {
          "base_uri": "https://localhost:8080/"
        },
        "id": "LQwYcjjYK-l2",
        "outputId": "8dfc5aac-391c-49be-dc17-4641daaf5748"
      },
      "source": [
        "while(1):\n",
        "  b1= input(\"press 'Y' or 'y' to continue: \")\n",
        "  if b1=='y' or b1=='Y':\n",
        "    try:\n",
        "      a1=input('Enter the year : ')\n",
        "      leap_year_checking(a1)\n",
        "    except:\n",
        "      print(\"Enter number correctly\")      \n",
        "  else:\n",
        "    break   "
      ],
      "execution_count": 59,
      "outputs": [
        {
          "name": "stdout",
          "output_type": "stream",
          "text": [
            "press 'Y' or 'y' to continue: y\n",
            "Enter the year : 1240\n",
            "The year is leap year\n",
            "press 'Y' or 'y' to continue: y\n",
            "Enter the year : 520\n",
            "The year is leap year\n",
            "press 'Y' or 'y' to continue: y\n",
            "Enter the year : 12356\n",
            "Enter the year correctly\n",
            "press 'Y' or 'y' to continue: y\n",
            "Enter the year : 2020\n",
            "The year is leap year\n",
            "press 'Y' or 'y' to continue: n\n"
          ]
        }
      ]
    },
    {
      "cell_type": "markdown",
      "metadata": {
        "id": "66d_HbEfNCSK"
      },
      "source": [
        "# 4."
      ]
    },
    {
      "cell_type": "code",
      "metadata": {
        "id": "YtSmmgdGMNe7"
      },
      "source": [
        "def prime_number(a):\n",
        "    c=0\n",
        "    for i in range(1,a+1):\n",
        "      if a%i==0:\n",
        "        c+=1\n",
        "    if c==2:    \n",
        "      print(\"The number is prime\")\n",
        "    else:\n",
        "      print(\"The number is  not prime\")"
      ],
      "execution_count": 60,
      "outputs": []
    },
    {
      "cell_type": "code",
      "metadata": {
        "colab": {
          "base_uri": "https://localhost:8080/"
        },
        "id": "w4yUUvgKNeRH",
        "outputId": "93a916d8-6b2b-4eea-a346-4f6972fd8e7d"
      },
      "source": [
        "while(1):\n",
        "  b1= input(\"press 'Y' or 'y' to continue: \")\n",
        "  if b1=='y' or b1=='Y':\n",
        "    try:\n",
        "      a1=eval(input('Enter Number : '))\n",
        "      prime_number(a1)\n",
        "    except:\n",
        "      print(\"Enter number correctly\")      \n",
        "  else:\n",
        "    break   "
      ],
      "execution_count": 62,
      "outputs": [
        {
          "name": "stdout",
          "output_type": "stream",
          "text": [
            "press 'Y' or 'y' to continue: y\n",
            "Enter Number : 23\n",
            "The number is prime\n",
            "press 'Y' or 'y' to continue: y\n",
            "Enter Number : 12\n",
            "The number is  not prime\n",
            "press 'Y' or 'y' to continue: n\n"
          ]
        }
      ]
    },
    {
      "cell_type": "markdown",
      "metadata": {
        "id": "_ohXytBXReEt"
      },
      "source": [
        "# 5."
      ]
    },
    {
      "cell_type": "code",
      "metadata": {
        "id": "wMdKnbSbNkBJ"
      },
      "source": [
        "def prime_number_list(l_interval,u_interval):\n",
        "  l=[]\n",
        "  n=l_interval\n",
        "  while n<=u_interval:\n",
        "    c=0\n",
        "    for i in range(1,n+1):\n",
        "      if n%i==0:\n",
        "        c+=1\n",
        "    if c==2:    \n",
        "      l.append(n)\n",
        "    n+=1 \n",
        "  print(\"Prime numbers in the interval are : \",l)"
      ],
      "execution_count": 85,
      "outputs": []
    },
    {
      "cell_type": "code",
      "metadata": {
        "colab": {
          "base_uri": "https://localhost:8080/"
        },
        "id": "rJczCL9DOK_c",
        "outputId": "8120a313-ac73-4999-eb20-bd040c529ede"
      },
      "source": [
        "try:\n",
        "  a1=eval(input('Enter lower the interval: '))\n",
        "  b1=eval(input('Enter upper the interval: '))\n",
        "  prime_number_list(a1,b1)\n",
        "except:\n",
        "  print(\"Enter the intervals correctly\")  "
      ],
      "execution_count": 89,
      "outputs": [
        {
          "output_type": "stream",
          "name": "stdout",
          "text": [
            "Enter lower the interval: []]\n",
            "Enter the intervals correctly\n"
          ]
        }
      ]
    },
    {
      "cell_type": "markdown",
      "metadata": {
        "id": "pvlZpFcbSj18"
      },
      "source": [
        "# Assignment 4:"
      ]
    },
    {
      "cell_type": "markdown",
      "metadata": {
        "id": "2IhMnfGMS1nA"
      },
      "source": [
        "# 1."
      ]
    },
    {
      "cell_type": "code",
      "metadata": {
        "id": "lSnl5t9BRjms"
      },
      "source": [
        "def fact(n):\n",
        "  m=1\n",
        "  for i in range(1,n+1):\n",
        "    m=m*i\n",
        "  return m  \n"
      ],
      "execution_count": 298,
      "outputs": []
    },
    {
      "cell_type": "code",
      "metadata": {
        "colab": {
          "base_uri": "https://localhost:8080/"
        },
        "id": "WMWlZq7pTSSw",
        "outputId": "33af1e6b-d67b-4ce7-f465-ad08e9cb9af1"
      },
      "source": [
        "fact(9)"
      ],
      "execution_count": 300,
      "outputs": [
        {
          "output_type": "execute_result",
          "data": {
            "text/plain": [
              "362880"
            ]
          },
          "metadata": {},
          "execution_count": 300
        }
      ]
    },
    {
      "cell_type": "markdown",
      "metadata": {
        "id": "et9oLyRMTeEe"
      },
      "source": [
        "# 2."
      ]
    },
    {
      "cell_type": "code",
      "metadata": {
        "id": "iC1NI-gZTuOn"
      },
      "source": [
        "def table(n):\n",
        "  for i in range(1,11):\n",
        "    print(n,\" * \",i,\" = \",n*i)\n"
      ],
      "execution_count": 94,
      "outputs": []
    },
    {
      "cell_type": "code",
      "metadata": {
        "colab": {
          "base_uri": "https://localhost:8080/"
        },
        "id": "b53oXgeXTUBC",
        "outputId": "e9377384-4d62-4efb-fac5-70d51425cc81"
      },
      "source": [
        "a1=eval(input('Enter the number you want to see for table: '))\n",
        "table(a1)"
      ],
      "execution_count": 97,
      "outputs": [
        {
          "output_type": "stream",
          "name": "stdout",
          "text": [
            "Enter the number you want to see for table: 8\n",
            "8  *  1  =  8\n",
            "8  *  2  =  16\n",
            "8  *  3  =  24\n",
            "8  *  4  =  32\n",
            "8  *  5  =  40\n",
            "8  *  6  =  48\n",
            "8  *  7  =  56\n",
            "8  *  8  =  64\n",
            "8  *  9  =  72\n",
            "8  *  10  =  80\n"
          ]
        }
      ]
    },
    {
      "cell_type": "markdown",
      "metadata": {
        "id": "bKXoYIv9UYSX"
      },
      "source": [
        "# 3."
      ]
    },
    {
      "cell_type": "code",
      "metadata": {
        "id": "3A8AbqFoUM6-"
      },
      "source": [
        "def fib(n):\n",
        "  c1=c=0\n",
        "  d=1\n",
        "  x=1\n",
        "  print(c, end=\" \")\n",
        "  print(d, end=\" \")\n",
        "  while(x<=n-2):\n",
        "    c1=c\n",
        "    print(c+d, end=\" \")\n",
        "    c=d\n",
        "    d=c1+d\n",
        "    x+=1"
      ],
      "execution_count": 112,
      "outputs": []
    },
    {
      "cell_type": "code",
      "metadata": {
        "colab": {
          "base_uri": "https://localhost:8080/"
        },
        "id": "B7rW0EsuU32j",
        "outputId": "c054ae9d-3b93-4819-af9a-ec6e5a58b11d"
      },
      "source": [
        "a1=eval(input('Enter the range of fibonacci series you desire to see: '))\n",
        "print(\"\\nThe fibonacci series is in below :\\n\")\n",
        "fib(a1)"
      ],
      "execution_count": 119,
      "outputs": [
        {
          "output_type": "stream",
          "name": "stdout",
          "text": [
            "Enter the range of fibonacci series you desire to see: 9\n",
            "\n",
            "The fibonacci series is in below :\n",
            "\n",
            "0 1 1 2 3 5 8 13 21 "
          ]
        }
      ]
    },
    {
      "cell_type": "markdown",
      "metadata": {
        "id": "rXQlA96iXqI5"
      },
      "source": [
        "# 4."
      ]
    },
    {
      "cell_type": "code",
      "metadata": {
        "id": "tIjmnKLZU9ff"
      },
      "source": [
        "def order(a):\n",
        "  return eval(a)**len(a)\n",
        "def armstrong_number(n1):\n",
        "  c=0\n",
        "  for i in n1:\n",
        "    a=cube(i)\n",
        "    c+=a\n",
        "  if c==int(n1):\n",
        "    print(\"This is armstrong number\")\n",
        "  else:\n",
        "    print(\"This is not armstrong number\")  "
      ],
      "execution_count": 196,
      "outputs": []
    },
    {
      "cell_type": "code",
      "metadata": {
        "colab": {
          "base_uri": "https://localhost:8080/"
        },
        "id": "k3PT0tfXX4gy",
        "outputId": "571caf44-e7fd-42c2-cf1a-c7d64e96e183"
      },
      "source": [
        "a1=input('Enter the number: ')\n",
        "armstrong_number(a1)"
      ],
      "execution_count": 200,
      "outputs": [
        {
          "output_type": "stream",
          "name": "stdout",
          "text": [
            "Enter the number: 407\n",
            "This is armstrong number\n"
          ]
        }
      ]
    },
    {
      "cell_type": "markdown",
      "metadata": {
        "id": "B1vFgDvOhiQy"
      },
      "source": [
        "# 5."
      ]
    },
    {
      "cell_type": "code",
      "metadata": {
        "colab": {
          "base_uri": "https://localhost:8080/"
        },
        "id": "t67ogo0etiYc",
        "outputId": "7875ddd5-a136-43c5-f342-f8a7c349320c"
      },
      "source": [
        "lower = eval(input(\"Enter lower interval : \"))\n",
        "upper =eval(input(\"Enter upper interval : \"))\n",
        "print(\"\\nArmstrong Number in this interval are \")\n",
        "for num in range(lower, upper + 1):\n",
        "   order = len(str(num))\n",
        "   sum = 0\n",
        "   temp = num\n",
        "   while temp > 0:\n",
        "       digit = temp % 10\n",
        "       sum += digit ** order\n",
        "       temp //= 10\n",
        "\n",
        "   if num == sum:\n",
        "       print(num, end =\" \")"
      ],
      "execution_count": 207,
      "outputs": [
        {
          "output_type": "stream",
          "name": "stdout",
          "text": [
            "Enter lower interval : 100\n",
            "Enter upper interval : 100000\n",
            "\n",
            "Armstrong Number in this interval are \n",
            "153 370 371 407 1634 8208 9474 54748 92727 93084 "
          ]
        }
      ]
    },
    {
      "cell_type": "markdown",
      "metadata": {
        "id": "lzFTHqSUdukD"
      },
      "source": [
        "# 6."
      ]
    },
    {
      "cell_type": "code",
      "metadata": {
        "id": "JH8kqkBCcycg"
      },
      "source": [
        "def sum_natural(n):\n",
        "  return (n*(n+1))/2"
      ],
      "execution_count": 143,
      "outputs": []
    },
    {
      "cell_type": "code",
      "metadata": {
        "colab": {
          "base_uri": "https://localhost:8080/"
        },
        "id": "eDEohpRsX9_U",
        "outputId": "55203251-0f8a-4a73-bf80-9e7f28ecacc6"
      },
      "source": [
        "a1=eval(input('Enter the range of natural numbers you want to see sum result: '))\n",
        "print(\"\\nThe summation of result is in below :\\n\")\n",
        "for i in range(1,a1+1):\n",
        "  if i!=a1:\n",
        "    print(i,\"+\",end=\" \")\n",
        "  if i==a1:\n",
        "    print(i,\"=\",end=\" \")\n",
        "sum_natural(a1)"
      ],
      "execution_count": 146,
      "outputs": [
        {
          "output_type": "stream",
          "name": "stdout",
          "text": [
            "Enter the range of natural numbers you want to see sum result: 10\n",
            "\n",
            "The summation of result is in below :\n",
            "\n",
            "1 + 2 + 3 + 4 + 5 + 6 + 7 + 8 + 9 + 10 = "
          ]
        },
        {
          "output_type": "execute_result",
          "data": {
            "text/plain": [
              "55.0"
            ]
          },
          "metadata": {},
          "execution_count": 146
        }
      ]
    },
    {
      "cell_type": "markdown",
      "metadata": {
        "id": "ydh6Kyk6vSSL"
      },
      "source": [
        "# Assignment 5"
      ]
    },
    {
      "cell_type": "markdown",
      "metadata": {
        "id": "H6EYeA6hvhWE"
      },
      "source": [
        "# 1."
      ]
    },
    {
      "cell_type": "code",
      "metadata": {
        "colab": {
          "base_uri": "https://localhost:8080/"
        },
        "id": "0U_FyUL6vT4Z",
        "outputId": "64626573-02e8-46cc-9b5d-3c101a3b32f6"
      },
      "source": [
        "def compute_lcm(x, y):\n",
        "   if x > y:\n",
        "       greater = x\n",
        "   else:\n",
        "       greater = y\n",
        "\n",
        "   while(True):\n",
        "       if((greater % x == 0) and (greater % y == 0)):\n",
        "           lcm = greater\n",
        "           break\n",
        "       greater += 1\n",
        "\n",
        "   return lcm\n",
        "\n",
        "num1 = 2\n",
        "num2 = 3\n",
        "\n",
        "print(\"The L.C.M. is\", compute_lcm(num1, num2))"
      ],
      "execution_count": 209,
      "outputs": [
        {
          "output_type": "stream",
          "name": "stdout",
          "text": [
            "The L.C.M. is 6\n"
          ]
        }
      ]
    },
    {
      "cell_type": "markdown",
      "metadata": {
        "id": "m3zTaaxOvo4P"
      },
      "source": [
        "# 2."
      ]
    },
    {
      "cell_type": "code",
      "metadata": {
        "colab": {
          "base_uri": "https://localhost:8080/"
        },
        "id": "VAnuepA9vk6O",
        "outputId": "e22d432d-f40c-4eac-b110-ae4f3f52403d"
      },
      "source": [
        "def compute_hcf(x, y):\n",
        "    if x > y:\n",
        "        smaller = y\n",
        "    else:\n",
        "        smaller = x\n",
        "    for i in range(1, smaller+1):\n",
        "        if((x % i == 0) and (y % i == 0)):\n",
        "            hcf = i \n",
        "    return hcf\n",
        "\n",
        "num1 = 14\n",
        "num2 = 20\n",
        "\n",
        "print(\"The H.C.F. is\", compute_hcf(num1, num2))"
      ],
      "execution_count": 210,
      "outputs": [
        {
          "output_type": "stream",
          "name": "stdout",
          "text": [
            "The H.C.F. is 2\n"
          ]
        }
      ]
    },
    {
      "cell_type": "markdown",
      "metadata": {
        "id": "4oZCXKgTwFL1"
      },
      "source": [
        "# 3."
      ]
    },
    {
      "cell_type": "code",
      "metadata": {
        "id": "EJ9ESjenv1mF"
      },
      "source": [
        "def DecimalToBinary(num):\n",
        "  if num>0:  \n",
        "    DecimalToBinary(num // 2)\n",
        "  print(num % 2, end = '')\n",
        "\n",
        "def DecimalToOctal(num):\n",
        "    octalNum = 0\n",
        "    countval = 1\n",
        "    while (num>0):\n",
        "      dec_remain = num % 8\n",
        "      octalNum += dec_remain * countval\n",
        "      countval = countval * 10\n",
        "      num //= 8\n",
        "    print(octalNum)\n",
        "\n",
        "def DecimalToHexadecimal(num):\n",
        "  i = 0\n",
        "  hdn = []\n",
        "  while num>0:\n",
        "    rem = num % 16\n",
        "    if rem<10:\n",
        "        rem = rem+48\n",
        "    else:\n",
        "        rem = rem+55\n",
        "    hdn.insert(i, chr(rem))\n",
        "    i = i+1\n",
        "    num = int(num / 16)\n",
        "    \n",
        "  i = i-1\n",
        "  while i>=0:\n",
        "    print(end=hdn[i])\n",
        "    i = i-1  "
      ],
      "execution_count": 272,
      "outputs": []
    },
    {
      "cell_type": "code",
      "metadata": {
        "colab": {
          "base_uri": "https://localhost:8080/"
        },
        "id": "-d53PDQPxSe-",
        "outputId": "3294ef50-4d8a-4072-de8c-e50452c01921"
      },
      "source": [
        "n=eval(input(\"Enter a positive decimal number : \"))\n",
        "print(\"Binary Representation\",end=\" \")\n",
        "DecimalToBinary(n)\n",
        "print(\"\\nOctal Representation\",end=\" \")\n",
        "DecimalToOctal(n)\n",
        "print(\"Hexadecimal Representation\",end=\" \")\n",
        "DecimalToHexadecimal(n)"
      ],
      "execution_count": 274,
      "outputs": [
        {
          "output_type": "stream",
          "name": "stdout",
          "text": [
            "Enter a positive decimal number : 556\n",
            "Binary Representation 01000101100\n",
            "Octal Representation 1054\n",
            "Hexadecimal Representation 22C"
          ]
        }
      ]
    },
    {
      "cell_type": "code",
      "metadata": {
        "colab": {
          "base_uri": "https://localhost:8080/"
        },
        "id": "bkMx3JwT30VJ",
        "outputId": "aea3c444-24ec-4569-d00a-87d42b16db26"
      },
      "source": [
        "n=eval(input(\"Enter a positive decimal number : \"))\n",
        "print(\"Binary Representation\",bin(n),end=\" \")\n",
        "print(\"\\nOctal Representation\",oct(n),end=\" \")\n",
        "print(\"\\nHexadecimal Representation\",hex(n),end=\" \")"
      ],
      "execution_count": 283,
      "outputs": [
        {
          "output_type": "stream",
          "name": "stdout",
          "text": [
            "Enter a positive decimal number : 556\n",
            "Binary Representation 0b1000101100 \n",
            "Octal Representation 0o1054 \n",
            "Hexadecimal Representation 0x22c "
          ]
        }
      ]
    },
    {
      "cell_type": "markdown",
      "metadata": {
        "id": "hMSJdIEd2-7R"
      },
      "source": [
        "# 4."
      ]
    },
    {
      "cell_type": "code",
      "metadata": {
        "colab": {
          "base_uri": "https://localhost:8080/"
        },
        "id": "fwpRSecZyqZQ",
        "outputId": "7dd3cc29-b4de-4e74-e903-6b98667bad46"
      },
      "source": [
        "c=input(\"Enter a keyboard letter : \")\n",
        "print(\"ASCII Value\",ord(c))"
      ],
      "execution_count": 284,
      "outputs": [
        {
          "output_type": "stream",
          "name": "stdout",
          "text": [
            "Enter a keyboard letter : T\n",
            "ASCII Value 84\n"
          ]
        }
      ]
    },
    {
      "cell_type": "markdown",
      "metadata": {
        "id": "blLjjBfR5JK8"
      },
      "source": [
        "# 5."
      ]
    },
    {
      "cell_type": "code",
      "metadata": {
        "id": "-6BEypTG3KZH"
      },
      "source": [
        "def calculator(n1,n2,opr):\n",
        "  if opr==\"add\":\n",
        "    return (n1+n2)\n",
        "  elif opr==\"sub\":\n",
        "    return n1-n2\n",
        "  elif opr==\"multi\":\n",
        "    return n1*n2\n",
        "  elif opr==\"div\":\n",
        "    if n2==0:\n",
        "      return \"not possible to divide, enter correct number\"\n",
        "    else:\n",
        "      return n1/n2"
      ],
      "execution_count": 285,
      "outputs": []
    }
  ]
}